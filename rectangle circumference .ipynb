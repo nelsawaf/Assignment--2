{
 "cells": [
  {
   "cell_type": "markdown",
   "metadata": {},
   "source": [
    "## Rectangle circumference calculater"
   ]
  },
  {
   "cell_type": "markdown",
   "metadata": {},
   "source": [
    "<img src=\"data:image/png;base64,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\" />"
   ]
  },
  {
   "cell_type": "code",
   "execution_count": null,
   "metadata": {},
   "outputs": [],
   "source": [
    "x=float(input(\"Rectangle Length=\"))\n",
    "y=float(input(\"Rectangle width=\"))\n",
    "C=2*(x+y)\n",
    "print('regtangle circumference is = ' , C )"
   ]
  },
  {
   "cell_type": "markdown",
   "metadata": {},
   "source": [
    "## Thanks \n",
    "## Nashwa "
   ]
  }
 ],
 "metadata": {
  "kernelspec": {
   "display_name": "Python 3",
   "language": "python",
   "name": "python3"
  }
 },
 "nbformat": 4,
 "nbformat_minor": 4
}
